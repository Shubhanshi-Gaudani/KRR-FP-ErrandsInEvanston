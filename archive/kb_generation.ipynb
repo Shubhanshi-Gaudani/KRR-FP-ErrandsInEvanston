{
  "nbformat": 4,
  "nbformat_minor": 0,
  "metadata": {
    "colab": {
      "provenance": []
    },
    "kernelspec": {
      "name": "python3",
      "display_name": "Python 3"
    },
    "language_info": {
      "name": "python"
    }
  },
  "cells": [
    {
      "cell_type": "code",
      "execution_count": 1,
      "metadata": {
        "colab": {
          "base_uri": "https://localhost:8080/",
          "height": 206
        },
        "id": "6M6tdkK3t6SD",
        "outputId": "7a6f58d5-f57d-46a7-aa0e-4f5cd13da847"
      },
      "outputs": [
        {
          "output_type": "execute_result",
          "data": {
            "text/plain": [
              "  Business License                              Business Name  \\\n",
              "0      09FOOD-0032                              Subway #46751   \n",
              "1      09FOOD-0015    Dar-Us-Sunnah Masjid & Community Center   \n",
              "2      11FOOD-0003                  Shop Now Food and Grocery   \n",
              "3      09FOOD-0396  First Church of God Christian Life Center   \n",
              "4      13FOOD-0013               Norris Center Bookstore #668   \n",
              "\n",
              "              Address      City State  Zip Code  \\\n",
              "0  1900 DEMPSTER ST C  Evanston    IL     60202   \n",
              "1      2045 BROWN AVE  Evanston    IL     60201   \n",
              "2      1942 MAPLE AVE  Evanston    IL     60201   \n",
              "3     1524 SIMPSON ST  Evanston    IL     60201   \n",
              "4      1999 CAMPUS DR  Evanston    IL     60208   \n",
              "\n",
              "                                            Location Last Inspection Date  \n",
              "0  1900 DEMPSTER ST C\\nEvanston, IL 60202\\n(42.04...           01/10/2018  \n",
              "1  2045 BROWN AVE\\nEvanston, IL 60201\\n(42.055088...           01/10/2018  \n",
              "2  1942 MAPLE AVE\\nEvanston, IL 60201\\n(42.053481...           02/22/2018  \n",
              "3  1524 SIMPSON ST\\nEvanston, IL 60201\\n(42.05572...           03/29/2018  \n",
              "4  1999 CAMPUS DR\\nEvanston, IL 60208\\n(42.053678...           04/26/2018  "
            ],
            "text/html": [
              "\n",
              "  <div id=\"df-85d3881c-8a63-4531-accb-1b8490daac52\">\n",
              "    <div class=\"colab-df-container\">\n",
              "      <div>\n",
              "<style scoped>\n",
              "    .dataframe tbody tr th:only-of-type {\n",
              "        vertical-align: middle;\n",
              "    }\n",
              "\n",
              "    .dataframe tbody tr th {\n",
              "        vertical-align: top;\n",
              "    }\n",
              "\n",
              "    .dataframe thead th {\n",
              "        text-align: right;\n",
              "    }\n",
              "</style>\n",
              "<table border=\"1\" class=\"dataframe\">\n",
              "  <thead>\n",
              "    <tr style=\"text-align: right;\">\n",
              "      <th></th>\n",
              "      <th>Business License</th>\n",
              "      <th>Business Name</th>\n",
              "      <th>Address</th>\n",
              "      <th>City</th>\n",
              "      <th>State</th>\n",
              "      <th>Zip Code</th>\n",
              "      <th>Location</th>\n",
              "      <th>Last Inspection Date</th>\n",
              "    </tr>\n",
              "  </thead>\n",
              "  <tbody>\n",
              "    <tr>\n",
              "      <th>0</th>\n",
              "      <td>09FOOD-0032</td>\n",
              "      <td>Subway #46751</td>\n",
              "      <td>1900 DEMPSTER ST C</td>\n",
              "      <td>Evanston</td>\n",
              "      <td>IL</td>\n",
              "      <td>60202</td>\n",
              "      <td>1900 DEMPSTER ST C\\nEvanston, IL 60202\\n(42.04...</td>\n",
              "      <td>01/10/2018</td>\n",
              "    </tr>\n",
              "    <tr>\n",
              "      <th>1</th>\n",
              "      <td>09FOOD-0015</td>\n",
              "      <td>Dar-Us-Sunnah Masjid &amp; Community Center</td>\n",
              "      <td>2045 BROWN AVE</td>\n",
              "      <td>Evanston</td>\n",
              "      <td>IL</td>\n",
              "      <td>60201</td>\n",
              "      <td>2045 BROWN AVE\\nEvanston, IL 60201\\n(42.055088...</td>\n",
              "      <td>01/10/2018</td>\n",
              "    </tr>\n",
              "    <tr>\n",
              "      <th>2</th>\n",
              "      <td>11FOOD-0003</td>\n",
              "      <td>Shop Now Food and Grocery</td>\n",
              "      <td>1942 MAPLE AVE</td>\n",
              "      <td>Evanston</td>\n",
              "      <td>IL</td>\n",
              "      <td>60201</td>\n",
              "      <td>1942 MAPLE AVE\\nEvanston, IL 60201\\n(42.053481...</td>\n",
              "      <td>02/22/2018</td>\n",
              "    </tr>\n",
              "    <tr>\n",
              "      <th>3</th>\n",
              "      <td>09FOOD-0396</td>\n",
              "      <td>First Church of God Christian Life Center</td>\n",
              "      <td>1524 SIMPSON ST</td>\n",
              "      <td>Evanston</td>\n",
              "      <td>IL</td>\n",
              "      <td>60201</td>\n",
              "      <td>1524 SIMPSON ST\\nEvanston, IL 60201\\n(42.05572...</td>\n",
              "      <td>03/29/2018</td>\n",
              "    </tr>\n",
              "    <tr>\n",
              "      <th>4</th>\n",
              "      <td>13FOOD-0013</td>\n",
              "      <td>Norris Center Bookstore #668</td>\n",
              "      <td>1999 CAMPUS DR</td>\n",
              "      <td>Evanston</td>\n",
              "      <td>IL</td>\n",
              "      <td>60208</td>\n",
              "      <td>1999 CAMPUS DR\\nEvanston, IL 60208\\n(42.053678...</td>\n",
              "      <td>04/26/2018</td>\n",
              "    </tr>\n",
              "  </tbody>\n",
              "</table>\n",
              "</div>\n",
              "      <button class=\"colab-df-convert\" onclick=\"convertToInteractive('df-85d3881c-8a63-4531-accb-1b8490daac52')\"\n",
              "              title=\"Convert this dataframe to an interactive table.\"\n",
              "              style=\"display:none;\">\n",
              "        \n",
              "  <svg xmlns=\"http://www.w3.org/2000/svg\" height=\"24px\"viewBox=\"0 0 24 24\"\n",
              "       width=\"24px\">\n",
              "    <path d=\"M0 0h24v24H0V0z\" fill=\"none\"/>\n",
              "    <path d=\"M18.56 5.44l.94 2.06.94-2.06 2.06-.94-2.06-.94-.94-2.06-.94 2.06-2.06.94zm-11 1L8.5 8.5l.94-2.06 2.06-.94-2.06-.94L8.5 2.5l-.94 2.06-2.06.94zm10 10l.94 2.06.94-2.06 2.06-.94-2.06-.94-.94-2.06-.94 2.06-2.06.94z\"/><path d=\"M17.41 7.96l-1.37-1.37c-.4-.4-.92-.59-1.43-.59-.52 0-1.04.2-1.43.59L10.3 9.45l-7.72 7.72c-.78.78-.78 2.05 0 2.83L4 21.41c.39.39.9.59 1.41.59.51 0 1.02-.2 1.41-.59l7.78-7.78 2.81-2.81c.8-.78.8-2.07 0-2.86zM5.41 20L4 18.59l7.72-7.72 1.47 1.35L5.41 20z\"/>\n",
              "  </svg>\n",
              "      </button>\n",
              "      \n",
              "  <style>\n",
              "    .colab-df-container {\n",
              "      display:flex;\n",
              "      flex-wrap:wrap;\n",
              "      gap: 12px;\n",
              "    }\n",
              "\n",
              "    .colab-df-convert {\n",
              "      background-color: #E8F0FE;\n",
              "      border: none;\n",
              "      border-radius: 50%;\n",
              "      cursor: pointer;\n",
              "      display: none;\n",
              "      fill: #1967D2;\n",
              "      height: 32px;\n",
              "      padding: 0 0 0 0;\n",
              "      width: 32px;\n",
              "    }\n",
              "\n",
              "    .colab-df-convert:hover {\n",
              "      background-color: #E2EBFA;\n",
              "      box-shadow: 0px 1px 2px rgba(60, 64, 67, 0.3), 0px 1px 3px 1px rgba(60, 64, 67, 0.15);\n",
              "      fill: #174EA6;\n",
              "    }\n",
              "\n",
              "    [theme=dark] .colab-df-convert {\n",
              "      background-color: #3B4455;\n",
              "      fill: #D2E3FC;\n",
              "    }\n",
              "\n",
              "    [theme=dark] .colab-df-convert:hover {\n",
              "      background-color: #434B5C;\n",
              "      box-shadow: 0px 1px 3px 1px rgba(0, 0, 0, 0.15);\n",
              "      filter: drop-shadow(0px 1px 2px rgba(0, 0, 0, 0.3));\n",
              "      fill: #FFFFFF;\n",
              "    }\n",
              "  </style>\n",
              "\n",
              "      <script>\n",
              "        const buttonEl =\n",
              "          document.querySelector('#df-85d3881c-8a63-4531-accb-1b8490daac52 button.colab-df-convert');\n",
              "        buttonEl.style.display =\n",
              "          google.colab.kernel.accessAllowed ? 'block' : 'none';\n",
              "\n",
              "        async function convertToInteractive(key) {\n",
              "          const element = document.querySelector('#df-85d3881c-8a63-4531-accb-1b8490daac52');\n",
              "          const dataTable =\n",
              "            await google.colab.kernel.invokeFunction('convertToInteractive',\n",
              "                                                     [key], {});\n",
              "          if (!dataTable) return;\n",
              "\n",
              "          const docLinkHtml = 'Like what you see? Visit the ' +\n",
              "            '<a target=\"_blank\" href=https://colab.research.google.com/notebooks/data_table.ipynb>data table notebook</a>'\n",
              "            + ' to learn more about interactive tables.';\n",
              "          element.innerHTML = '';\n",
              "          dataTable['output_type'] = 'display_data';\n",
              "          await google.colab.output.renderOutput(dataTable, element);\n",
              "          const docLink = document.createElement('div');\n",
              "          docLink.innerHTML = docLinkHtml;\n",
              "          element.appendChild(docLink);\n",
              "        }\n",
              "      </script>\n",
              "    </div>\n",
              "  </div>\n",
              "  "
            ]
          },
          "metadata": {},
          "execution_count": 1
        }
      ],
      "source": [
        "import pandas as pd\n",
        "df = pd.read_csv('/content/evanston food kb.csv')\n",
        "df.head()"
      ]
    },
    {
      "cell_type": "code",
      "source": [
        "#remove the column for inspection date\n",
        "df = df.drop('Last Inspection Date', axis=1)"
      ],
      "metadata": {
        "id": "bYfo8cARuaGr"
      },
      "execution_count": 2,
      "outputs": []
    },
    {
      "cell_type": "code",
      "source": [
        "#getting the lat and long for businesses, compiling list of places for whom lat long we couldn't find\n",
        "from geopy.geocoders import Nominatim\n",
        "from geopy.distance import geodesic as GD\n",
        "locator = Nominatim(user_agent=\"myGeocoder\")\n",
        "lats = []\n",
        "longs = []\n",
        "didnotwork = []\n",
        "temp = 0\n",
        "for address in df['Address']:\n",
        "  try:\n",
        "    location = locator.geocode(address + ', Evanston, Illinois')\n",
        "    lats.append(location.latitude)\n",
        "    longs.append(location.longitude)\n",
        "    print('on run', temp)\n",
        "    temp+=1\n",
        "  except:\n",
        "    didnotwork.append(address)"
      ],
      "metadata": {
        "id": "k54HBJLZv1jC"
      },
      "execution_count": null,
      "outputs": []
    },
    {
      "cell_type": "code",
      "source": [
        "#dropping rows for which we couldn't do lat long from df\n",
        "for i in didnotwork:\n",
        "  df = df[df['Address'] != i]"
      ],
      "metadata": {
        "id": "jsG361PxwlvG"
      },
      "execution_count": null,
      "outputs": []
    },
    {
      "cell_type": "code",
      "source": [
        "#adding the lat and long columns to the df\n",
        "df['Latitude'] = lats\n",
        "df['Longitude'] = longs"
      ],
      "metadata": {
        "id": "xgmaaNqK2HCv"
      },
      "execution_count": 16,
      "outputs": []
    },
    {
      "cell_type": "code",
      "source": [
        "#now that we're done mining it, throw away the location column\n",
        "df = df.drop('Location', axis=1)"
      ],
      "metadata": {
        "id": "e6d85BDq76-Y"
      },
      "execution_count": 18,
      "outputs": []
    },
    {
      "cell_type": "code",
      "source": [
        "df.to_csv('/content/cleaned_kb.csv')"
      ],
      "metadata": {
        "id": "hxtzKHPP8CR2"
      },
      "execution_count": 20,
      "outputs": []
    }
  ]
}